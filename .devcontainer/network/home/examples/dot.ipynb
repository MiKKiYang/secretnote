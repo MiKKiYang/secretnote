{
 "cells": [
  {
   "cell_type": "code",
   "execution_count": 1,
   "id": "053138bc",
   "metadata": {},
   "outputs": [],
   "source": [
    "from pathlib import Path"
   ]
  },
  {
   "cell_type": "code",
   "execution_count": 2,
   "id": "28e20ec8-b632-4479-8008-2a1cf338bb27",
   "metadata": {},
   "outputs": [],
   "source": [
    "from secretnote.utils.version import assert_version"
   ]
  },
  {
   "cell_type": "code",
   "execution_count": 3,
   "id": "4e85225e-0401-4c6b-9011-7fac54d7ab06",
   "metadata": {},
   "outputs": [],
   "source": [
    "import pydantic\n",
    "import ray\n",
    "\n",
    "import secretflow\n",
    "import spu\n",
    "\n",
    "assert_version(ray, \"~=2.2.0\")\n",
    "assert_version(pydantic, \">=1.10, <2\")\n",
    "assert_version(secretflow, \"~=1.0\")\n",
    "assert_version(spu, \">=0.4.1\")"
   ]
  },
  {
   "cell_type": "code",
   "execution_count": 4,
   "id": "3a42e19f",
   "metadata": {},
   "outputs": [],
   "source": [
    "from secretnote.compat.spu import (\n",
    "    SPUClusterDef,\n",
    "    SPUNode,\n",
    "    SPUProtocolKind,\n",
    "    SPUFieldType,\n",
    "    SPURuntimeConfig,\n",
    ")\n",
    "from secretnote.compat.secretflow.device.driver import SFConfigSimulationFullyManaged"
   ]
  },
  {
   "cell_type": "code",
   "execution_count": 5,
   "id": "21ecc61e-2d47-4b98-b127-36f4da4140a0",
   "metadata": {},
   "outputs": [
    {
     "name": "stderr",
     "output_type": "stream",
     "text": [
      "2023-09-14 17:43:26,500\tINFO worker.py:1529 -- Started a local Ray instance. View the dashboard at \u001b[1m\u001b[32mhttp://127.0.0.1:8265 \u001b[39m\u001b[22m\n"
     ]
    },
    {
     "name": "stdout",
     "output_type": "stream",
     "text": [
      "\u001b[2m\u001b[36m(SPURuntime pid=8876)\u001b[0m 2023-09-14 17:43:29.237 [info] [default_brpc_retry_policy.cc:DoRetry:52] socket error, sleep=1000000us and retry\n",
      "\u001b[2m\u001b[36m(SPURuntime pid=8876)\u001b[0m 2023-09-14 17:43:30.237 [info] [default_brpc_retry_policy.cc:LogHttpDetail:33] cntl ErrorCode '64', http status code '200', response header '', error msg '[E61]Fail to connect Socket{id=0 addr=127.0.0.1:58272} (0x0x120040000): Connection refused [R1][E64]Not connected to 127.0.0.1:58272 yet, server_id=0'\n",
      "\u001b[2m\u001b[36m(SPURuntime pid=8876)\u001b[0m 2023-09-14 17:43:30.237 [info] [default_brpc_retry_policy.cc:DoRetry:75] aggressive retry, sleep=1000000us and retry\n"
     ]
    }
   ],
   "source": [
    "secretflow.shutdown()\n",
    "secretflow.init(**SFConfigSimulationFullyManaged(parties=[\"alice\", \"bob\"]).dict())\n",
    "\n",
    "spu = secretflow.SPU(\n",
    "    SPUClusterDef(\n",
    "        nodes=[\n",
    "            SPUNode(party=\"alice\", address=\"127.0.0.1:58271\"),\n",
    "            SPUNode(party=\"bob\", address=\"127.0.0.1:58272\"),\n",
    "        ],\n",
    "        runtime_config=SPURuntimeConfig(\n",
    "            protocol=SPUProtocolKind.SEMI2K,\n",
    "            field=SPUFieldType.FM128,\n",
    "        ),\n",
    "    ).dict()\n",
    ")"
   ]
  },
  {
   "cell_type": "code",
   "execution_count": 6,
   "id": "ad1180f1-2131-4554-9fcb-c3de53d68785",
   "metadata": {},
   "outputs": [
    {
     "name": "stdout",
     "output_type": "stream",
     "text": [
      "\u001b[2m\u001b[36m(SPURuntime pid=8876)\u001b[0m 2023-09-14 17:43:31.237 [info] [default_brpc_retry_policy.cc:LogHttpDetail:33] cntl ErrorCode '64', http status code '200', response header '', error msg '[E61]Fail to connect Socket{id=0 addr=127.0.0.1:58272} (0x0x120040000): Connection refused [R1][E64]Not connected to 127.0.0.1:58272 yet, server_id=0 [R2][E64]Not connected to 127.0.0.1:58272 yet, server_id=0'\n",
      "\u001b[2m\u001b[36m(SPURuntime pid=8876)\u001b[0m 2023-09-14 17:43:31.237 [info] [default_brpc_retry_policy.cc:DoRetry:75] aggressive retry, sleep=1000000us and retry\n",
      "\u001b[2m\u001b[36m(SPURuntime pid=8877)\u001b[0m 2023-09-14 17:43:31.293 [info] [default_brpc_retry_policy.cc:DoRetry:71] not retry for reached rcp timeout, ErrorCode '1008', error msg '[E1008]Reached timeout=2000ms @127.0.0.1:58271'\n"
     ]
    }
   ],
   "source": [
    "alice, bob = secretflow.PYU(\"alice\"), secretflow.PYU(\"bob\")"
   ]
  },
  {
   "cell_type": "code",
   "execution_count": 7,
   "id": "63bb2da6-01c9-405c-82fa-8e5ed570a8d1",
   "metadata": {},
   "outputs": [],
   "source": [
    "import jax.numpy as jnp"
   ]
  },
  {
   "cell_type": "code",
   "execution_count": 8,
   "id": "7189bc81-177c-47b2-b491-cf527dd454c8",
   "metadata": {},
   "outputs": [],
   "source": [
    "def read_numbers(filename):\n",
    "    with open(filename, \"r\") as f:\n",
    "        return jnp.array([int(item.strip()) for item in f.read().split(\",\")])"
   ]
  },
  {
   "cell_type": "code",
   "execution_count": 9,
   "id": "d702790e-a314-43c2-a6bd-39f6b931d31c",
   "metadata": {},
   "outputs": [
    {
     "name": "stderr",
     "output_type": "stream",
     "text": [
      "\u001b[2m\u001b[36m(_run pid=8842)\u001b[0m INFO:jax._src.xla_bridge:Unable to initialize backend 'cuda': module 'jaxlib.xla_extension' has no attribute 'GpuAllocatorConfig'\n",
      "\u001b[2m\u001b[36m(_run pid=8842)\u001b[0m INFO:jax._src.xla_bridge:Unable to initialize backend 'rocm': module 'jaxlib.xla_extension' has no attribute 'GpuAllocatorConfig'\n",
      "\u001b[2m\u001b[36m(_run pid=8842)\u001b[0m INFO:jax._src.xla_bridge:Unable to initialize backend 'tpu': module 'jaxlib.xla_extension' has no attribute 'get_tpu_client'\n",
      "\u001b[2m\u001b[36m(_run pid=8842)\u001b[0m INFO:jax._src.xla_bridge:Unable to initialize backend 'plugin': xla_extension has no attributes named get_plugin_device_client. Compile TensorFlow with //tensorflow/compiler/xla/python:enable_plugin_device set to true (defaults to false) to enable this.\n"
     ]
    }
   ],
   "source": [
    "fibonacci = alice(read_numbers)(str(Path().joinpath(\"A000045.txt\").resolve()))"
   ]
  },
  {
   "cell_type": "code",
   "execution_count": 10,
   "id": "44893265-0e98-4440-8b49-a599ed99fcac",
   "metadata": {},
   "outputs": [],
   "source": [
    "pascal = bob(read_numbers)(str(Path().joinpath(\"A007318.txt\").resolve()))"
   ]
  },
  {
   "cell_type": "code",
   "execution_count": 11,
   "id": "253f36fe-42d7-46bc-b281-3b85bcea40bd",
   "metadata": {},
   "outputs": [],
   "source": [
    "def dot(x, y):\n",
    "    if x.shape[0] > y.shape[0]:\n",
    "        x = x[: y.shape[0]]\n",
    "    else:\n",
    "        y = y[: x.shape[0]]\n",
    "    return jnp.dot(x, y)"
   ]
  },
  {
   "cell_type": "code",
   "execution_count": 12,
   "id": "0022e162-8e18-477b-834c-a9ee29b68d13",
   "metadata": {},
   "outputs": [
    {
     "name": "stderr",
     "output_type": "stream",
     "text": [
      "INFO:jax._src.xla_bridge:Unable to initialize backend 'cuda': module 'jaxlib.xla_extension' has no attribute 'GpuAllocatorConfig'\n",
      "INFO:jax._src.xla_bridge:Unable to initialize backend 'rocm': module 'jaxlib.xla_extension' has no attribute 'GpuAllocatorConfig'\n",
      "INFO:jax._src.xla_bridge:Unable to initialize backend 'tpu': module 'jaxlib.xla_extension' has no attribute 'get_tpu_client'\n",
      "INFO:jax._src.xla_bridge:Unable to initialize backend 'plugin': xla_extension has no attributes named get_plugin_device_client. Compile TensorFlow with //tensorflow/compiler/xla/python:enable_plugin_device set to true (defaults to false) to enable this.\n"
     ]
    },
    {
     "name": "stderr",
     "output_type": "stream",
     "text": [
      "\u001b[2m\u001b[36m(_run pid=8843)\u001b[0m INFO:jax._src.xla_bridge:Unable to initialize backend 'cuda': module 'jaxlib.xla_extension' has no attribute 'GpuAllocatorConfig'\n",
      "\u001b[2m\u001b[36m(_run pid=8843)\u001b[0m INFO:jax._src.xla_bridge:Unable to initialize backend 'rocm': module 'jaxlib.xla_extension' has no attribute 'GpuAllocatorConfig'\n",
      "\u001b[2m\u001b[36m(_run pid=8843)\u001b[0m INFO:jax._src.xla_bridge:Unable to initialize backend 'tpu': module 'jaxlib.xla_extension' has no attribute 'get_tpu_client'\n",
      "\u001b[2m\u001b[36m(_run pid=8843)\u001b[0m INFO:jax._src.xla_bridge:Unable to initialize backend 'plugin': xla_extension has no attributes named get_plugin_device_client. Compile TensorFlow with //tensorflow/compiler/xla/python:enable_plugin_device set to true (defaults to false) to enable this.\n"
     ]
    }
   ],
   "source": [
    "result = spu(dot)(fibonacci.to(spu), pascal.to(spu))"
   ]
  },
  {
   "cell_type": "code",
   "execution_count": 13,
   "id": "5101c82c-5fe2-4cc0-8135-9b0963af321d",
   "metadata": {},
   "outputs": [
    {
     "data": {
      "text/plain": [
       "array(-605557560, dtype=int32)"
      ]
     },
     "execution_count": 13,
     "metadata": {},
     "output_type": "execute_result"
    }
   ],
   "source": [
    "secretflow.reveal(result)"
   ]
  }
 ],
 "metadata": {
  "kernelspec": {
   "display_name": "Python 3 (ipykernel)",
   "language": "python",
   "name": "python3"
  },
  "language_info": {
   "codemirror_mode": {
    "name": "ipython",
    "version": 3
   },
   "file_extension": ".py",
   "mimetype": "text/x-python",
   "name": "python",
   "nbconvert_exporter": "python",
   "pygments_lexer": "ipython3",
   "version": "3.8.17"
  }
 },
 "nbformat": 4,
 "nbformat_minor": 5
}
