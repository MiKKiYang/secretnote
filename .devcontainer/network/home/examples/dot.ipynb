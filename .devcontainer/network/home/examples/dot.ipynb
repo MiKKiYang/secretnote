{
 "cells": [
  {
   "cell_type": "code",
   "execution_count": null,
   "id": "053138bc",
   "metadata": {},
   "outputs": [],
   "source": [
    "import os\n",
    "from pathlib import Path"
   ]
  },
  {
   "cell_type": "code",
   "execution_count": 1,
   "id": "28e20ec8-b632-4479-8008-2a1cf338bb27",
   "metadata": {},
   "outputs": [],
   "source": [
    "from secretnote.utils.version import assert_version\n",
    "from secretnote.typing.spu import SPUClusterDef, SPUNode, spu_proto\n",
    "from secretnote.typing.secretflow.device.driver import SFClusterConfig, SFClusterParty"
   ]
  },
  {
   "cell_type": "code",
   "execution_count": 2,
   "id": "4e85225e-0401-4c6b-9011-7fac54d7ab06",
   "metadata": {},
   "outputs": [],
   "source": [
    "import pydantic\n",
    "import ray\n",
    "\n",
    "import secretflow\n",
    "import spu\n",
    "\n",
    "assert_version(ray, ray.__version__, '~=2.2.0')\n",
    "assert_version(pydantic, pydantic.__version__, '>=1.10, <2')\n",
    "assert_version(secretflow, secretflow.__version__, '~=1.0')\n",
    "assert_version(spu, spu.__version__, '>=0.4.1')"
   ]
  },
  {
   "cell_type": "code",
   "execution_count": null,
   "id": "8179b7c8",
   "metadata": {},
   "outputs": [],
   "source": [
    "self_party = os.getenv(\"SELF_PARTY\", \"alice\")"
   ]
  },
  {
   "cell_type": "code",
   "execution_count": null,
   "id": "21ecc61e-2d47-4b98-b127-36f4da4140a0",
   "metadata": {},
   "outputs": [],
   "source": [
    "secretflow.init(\n",
    "    address=\"127.0.0.1:6379\",\n",
    "    cluster_config=SFClusterConfig(\n",
    "        parties={\n",
    "            \"alice\": SFClusterParty(address=\"alice:8080\"),\n",
    "            \"bob\": SFClusterParty(address=\"bob:8080\"),\n",
    "        },\n",
    "        self_party=self_party,\n",
    "    ).dict(),\n",
    "    log_to_driver=True,\n",
    ")\n",
    "\n",
    "spu = secretflow.SPU(\n",
    "    cluster_def=SPUClusterDef(\n",
    "        nodes=[\n",
    "            SPUNode(party=\"alice\", address=\"alice:8081\"),\n",
    "            SPUNode(party=\"bob\", address=\"bob:8081\"),\n",
    "        ],\n",
    "        runtime_config=spu_proto.RuntimeConfig(\n",
    "            protocol=spu_proto.SEMI2K,\n",
    "            field=spu_proto.FM128,\n",
    "            sigmoid_mode=spu_proto.RuntimeConfig.SIGMOID_REAL,\n",
    "        ),\n",
    "    ).dict()\n",
    ")"
   ]
  },
  {
   "cell_type": "code",
   "execution_count": null,
   "id": "ad1180f1-2131-4554-9fcb-c3de53d68785",
   "metadata": {},
   "outputs": [],
   "source": [
    "alice, bob = secretflow.PYU('alice'), secretflow.PYU('bob')"
   ]
  },
  {
   "cell_type": "code",
   "execution_count": null,
   "id": "63bb2da6-01c9-405c-82fa-8e5ed570a8d1",
   "metadata": {},
   "outputs": [],
   "source": [
    "import jax.numpy as jnp"
   ]
  },
  {
   "cell_type": "code",
   "execution_count": null,
   "id": "7189bc81-177c-47b2-b491-cf527dd454c8",
   "metadata": {},
   "outputs": [],
   "source": [
    "def read_numbers(filename):\n",
    "    with open(filename, 'r') as f:\n",
    "        return jnp.array([int(item.strip()) for item in f.read().split(',')])"
   ]
  },
  {
   "cell_type": "code",
   "execution_count": null,
   "id": "d702790e-a314-43c2-a6bd-39f6b931d31c",
   "metadata": {},
   "outputs": [],
   "source": [
    "fibonacci = alice(read_numbers)(str(Path().joinpath('A000045.txt').resolve()))"
   ]
  },
  {
   "cell_type": "code",
   "execution_count": null,
   "id": "44893265-0e98-4440-8b49-a599ed99fcac",
   "metadata": {},
   "outputs": [],
   "source": [
    "pascal = bob(read_numbers)(str(Path().joinpath('A007318.txt').resolve()))"
   ]
  },
  {
   "cell_type": "code",
   "execution_count": null,
   "id": "253f36fe-42d7-46bc-b281-3b85bcea40bd",
   "metadata": {},
   "outputs": [],
   "source": [
    "def dot(x, y):\n",
    "    if x.shape[0] > y.shape[0]:\n",
    "        x = x[:y.shape[0]]\n",
    "    else:\n",
    "        y = y[:x.shape[0]]\n",
    "    return jnp.dot(x, y)"
   ]
  },
  {
   "cell_type": "code",
   "execution_count": null,
   "id": "0022e162-8e18-477b-834c-a9ee29b68d13",
   "metadata": {},
   "outputs": [],
   "source": [
    "result = spu(dot)(fibonacci.to(spu), pascal.to(spu))"
   ]
  },
  {
   "cell_type": "code",
   "execution_count": null,
   "id": "5101c82c-5fe2-4cc0-8135-9b0963af321d",
   "metadata": {},
   "outputs": [],
   "source": [
    "secretflow.reveal(result)"
   ]
  }
 ],
 "metadata": {
  "kernelspec": {
   "display_name": "Python 3 (ipykernel)",
   "language": "python",
   "name": "python3"
  },
  "language_info": {
   "codemirror_mode": {
    "name": "ipython",
    "version": 3
   },
   "file_extension": ".py",
   "mimetype": "text/x-python",
   "name": "python",
   "nbconvert_exporter": "python",
   "pygments_lexer": "ipython3",
   "version": "3.8.17"
  }
 },
 "nbformat": 4,
 "nbformat_minor": 5
}
