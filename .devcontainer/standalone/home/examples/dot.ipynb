{
 "cells": [
  {
   "cell_type": "code",
   "execution_count": null,
   "id": "e3de1fc5-cdd8-4032-a93c-5d9ffbf6b199",
   "metadata": {},
   "outputs": [],
   "source": [
    "import os\n",
    "import sys\n",
    "import json\n",
    "from pathlib import Path"
   ]
  },
  {
   "cell_type": "code",
   "execution_count": null,
   "id": "6b96a7fa-0581-4744-9ac0-292c1bd726f8",
   "metadata": {},
   "outputs": [],
   "source": [
    "from spu import spu_pb2 as spu_constants"
   ]
  },
  {
   "cell_type": "code",
   "execution_count": null,
   "id": "4489eab9-5993-4401-b191-a552a512f50b",
   "metadata": {},
   "outputs": [],
   "source": [
    "network_conf = {\n",
    "    'parties': {\n",
    "        'alice': {\n",
    "            'address': 'alice:8080',\n",
    "        },\n",
    "        'bob': {\n",
    "            'address': 'bob:8080',\n",
    "        },\n",
    "    },\n",
    "}\n",
    "\n",
    "spu_conf = {\n",
    "    \"nodes\": [\n",
    "        {\n",
    "            \"party\": \"alice\",\n",
    "            \"address\": \"alice:8081\",\n",
    "        },\n",
    "        {\n",
    "            \"party\": \"bob\",\n",
    "            \"address\": \"bob:8081\",\n",
    "        },\n",
    "    ],\n",
    "    \"runtime_config\": {\n",
    "        \"protocol\": spu_constants.SEMI2K,\n",
    "        \"field\": spu_constants.FM128,\n",
    "        \"sigmoid_mode\": spu_constants.RuntimeConfig.SIGMOID_REAL,\n",
    "    },\n",
    "}"
   ]
  },
  {
   "cell_type": "code",
   "execution_count": null,
   "id": "2ca5f0db-763e-4d66-8e05-62475b4e78a0",
   "metadata": {},
   "outputs": [],
   "source": [
    "import secretflow as sf"
   ]
  },
  {
   "cell_type": "code",
   "execution_count": null,
   "id": "84b89cb2-7137-4143-a0b4-d2519c313940",
   "metadata": {},
   "outputs": [],
   "source": [
    "# In Docker container, set via environment\n",
    "self_party = os.getenv('SELF_PARTY')"
   ]
  },
  {
   "cell_type": "code",
   "execution_count": null,
   "id": "21ecc61e-2d47-4b98-b127-36f4da4140a0",
   "metadata": {},
   "outputs": [],
   "source": [
    "sf.init(\n",
    "    address='127.0.0.1:6379',\n",
    "    cluster_config={**network_conf, 'self_party': self_party},\n",
    "    log_to_driver=True,\n",
    ")"
   ]
  },
  {
   "cell_type": "code",
   "execution_count": null,
   "id": "d5ddb365-574b-4dc5-a90f-08e790b3196d",
   "metadata": {},
   "outputs": [],
   "source": [
    "alice, bob = sf.PYU('alice'), sf.PYU('bob')"
   ]
  },
  {
   "cell_type": "code",
   "execution_count": null,
   "id": "ad1180f1-2131-4554-9fcb-c3de53d68785",
   "metadata": {},
   "outputs": [],
   "source": [
    "spu = sf.SPU(cluster_def=spu_conf)"
   ]
  },
  {
   "cell_type": "code",
   "execution_count": null,
   "id": "63bb2da6-01c9-405c-82fa-8e5ed570a8d1",
   "metadata": {},
   "outputs": [],
   "source": [
    "import jax.numpy as jnp"
   ]
  },
  {
   "cell_type": "code",
   "execution_count": null,
   "id": "7189bc81-177c-47b2-b491-cf527dd454c8",
   "metadata": {},
   "outputs": [],
   "source": [
    "def read_numbers(filename):\n",
    "    with open(filename, 'r') as f:\n",
    "        return jnp.array([int(item.strip()) for item in f.read().split(',')])"
   ]
  },
  {
   "cell_type": "code",
   "execution_count": null,
   "id": "d702790e-a314-43c2-a6bd-39f6b931d31c",
   "metadata": {},
   "outputs": [],
   "source": [
    "fibonacci = alice(read_numbers)(str(Path().joinpath('A000045.txt').resolve()))"
   ]
  },
  {
   "cell_type": "code",
   "execution_count": null,
   "id": "44893265-0e98-4440-8b49-a599ed99fcac",
   "metadata": {},
   "outputs": [],
   "source": [
    "pascal = bob(read_numbers)(str(Path().joinpath('A007318.txt').resolve()))"
   ]
  },
  {
   "cell_type": "code",
   "execution_count": null,
   "id": "253f36fe-42d7-46bc-b281-3b85bcea40bd",
   "metadata": {},
   "outputs": [],
   "source": [
    "def dot(x, y):\n",
    "    if x.shape[0] > y.shape[0]:\n",
    "        x = x[:y.shape[0]]\n",
    "    else:\n",
    "        y = y[:x.shape[0]]\n",
    "    return jnp.dot(x, y)"
   ]
  },
  {
   "cell_type": "code",
   "execution_count": null,
   "id": "0022e162-8e18-477b-834c-a9ee29b68d13",
   "metadata": {},
   "outputs": [],
   "source": [
    "result = spu(dot)(fibonacci.to(spu), pascal.to(spu))"
   ]
  },
  {
   "cell_type": "code",
   "execution_count": null,
   "id": "5101c82c-5fe2-4cc0-8135-9b0963af321d",
   "metadata": {},
   "outputs": [],
   "source": [
    "sf.reveal(result)"
   ]
  }
 ],
 "metadata": {
  "kernelspec": {
   "display_name": "Python 3 (ipykernel)",
   "language": "python",
   "name": "python3"
  },
  "language_info": {
   "codemirror_mode": {
    "name": "ipython",
    "version": 3
   },
   "file_extension": ".py",
   "mimetype": "text/x-python",
   "name": "python",
   "nbconvert_exporter": "python",
   "pygments_lexer": "ipython3",
   "version": "3.9.17"
  }
 },
 "nbformat": 4,
 "nbformat_minor": 5
}
