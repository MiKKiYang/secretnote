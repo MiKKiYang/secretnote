{
 "cells": [
  {
   "cell_type": "markdown",
   "metadata": {},
   "source": [
    "# SPU over local network\n",
    "\n",
    "This example spins up a 2-party SPU network. Both parties listen on 0.0.0.0, and will connect to each other over the local network instead of through the loopback interface (localhost).\n"
   ]
  },
  {
   "cell_type": "markdown",
   "metadata": {},
   "source": [
    "First, start an example 2-party SecretFlow network in simulation mode:\n"
   ]
  },
  {
   "cell_type": "code",
   "execution_count": 1,
   "metadata": {},
   "outputs": [
    {
     "name": "stderr",
     "output_type": "stream",
     "text": [
      "2023-09-18 07:46:13,277\tINFO worker.py:1529 -- Started a local Ray instance. View the dashboard at \u001b[1m\u001b[32mhttp://127.0.0.1:8265 \u001b[39m\u001b[22m\n"
     ]
    }
   ],
   "source": [
    "import secretflow\n",
    "from secretnote.compat.secretflow.device.driver import SFConfigSimulationFullyManaged\n",
    "\n",
    "secretflow.shutdown()\n",
    "\n",
    "secretflow_config = SFConfigSimulationFullyManaged(parties=[\"alice\", \"bob\"])\n",
    "secretflow.init(**secretflow_config.dict())\n",
    "\n",
    "alice = secretflow.PYU(\"alice\")\n",
    "bob = secretflow.PYU(\"bob\")"
   ]
  },
  {
   "cell_type": "markdown",
   "metadata": {},
   "source": [
    "Figure out what the local IP address is for this machine. Depending on your network configuration, there may be several applicable addresses (e.g. one on Wireless and one on Ethernet). We will be using [`netifaces`][netifaces] to find the first interface that is up and has an `AF_INET` address assigned to it:\n",
    "\n",
    "[netifaces]: https://pypi.org/project/netifaces/\n"
   ]
  },
  {
   "cell_type": "code",
   "execution_count": 2,
   "metadata": {},
   "outputs": [],
   "source": [
    "import netifaces"
   ]
  },
  {
   "cell_type": "code",
   "execution_count": 3,
   "metadata": {},
   "outputs": [
    {
     "name": "stdout",
     "output_type": "stream",
     "text": [
      "Using interface en0 with address 30.231.120.44\n"
     ]
    }
   ],
   "source": [
    "for iface in netifaces.interfaces():\n",
    "    if iface.startswith(\"lo\"):\n",
    "        # skip loopback interface\n",
    "        continue\n",
    "    if iface.startswith(\"vbox\"):\n",
    "        # skip virtualbox interfaces\n",
    "        continue\n",
    "    details = netifaces.ifaddresses(iface)\n",
    "    if netifaces.AF_INET not in details:\n",
    "        # skip interfaces without an IP address\n",
    "        continue\n",
    "    inet_addr = details[netifaces.AF_INET][0][\"addr\"]\n",
    "    break\n",
    "else:\n",
    "    raise RuntimeError(\"No suitable network interface found\")\n",
    "\n",
    "print(f\"Using interface {iface} with address {inet_addr}\")"
   ]
  },
  {
   "cell_type": "markdown",
   "metadata": {},
   "source": [
    "Find two ports that are available on this machine. We will be using [`portpicker`][portpicker]:\n",
    "\n",
    "[portpicker]: https://pypi.org/project/portpicker/\n"
   ]
  },
  {
   "cell_type": "code",
   "execution_count": 4,
   "metadata": {},
   "outputs": [],
   "source": [
    "import portpicker"
   ]
  },
  {
   "cell_type": "code",
   "execution_count": 5,
   "metadata": {},
   "outputs": [
    {
     "name": "stdout",
     "output_type": "stream",
     "text": [
      "Network layout:\n",
      "alice: 127.0.0.1:54238 -> 30.231.120.44:54238\n",
      "bob:   127.0.0.1:54239 -> 30.231.120.44:54239\n"
     ]
    }
   ],
   "source": [
    "port_for_alice = portpicker.pick_unused_port()\n",
    "port_for_bob = portpicker.pick_unused_port()\n",
    "\n",
    "alice_bind_to = f\"127.0.0.1:{port_for_alice}\"\n",
    "bob_bind_to = f\"127.0.0.1:{port_for_bob}\"\n",
    "\n",
    "connect_to_alice_via = f\"{inet_addr}:{port_for_alice}\"\n",
    "connect_to_bob_via = f\"{inet_addr}:{port_for_bob}\"\n",
    "\n",
    "print(\n",
    "    f\"\"\"Network layout:\n",
    "alice: {alice_bind_to} -> {connect_to_alice_via}\n",
    "bob:   {bob_bind_to} -> {connect_to_bob_via}\"\"\"\n",
    ")"
   ]
  },
  {
   "cell_type": "markdown",
   "metadata": {},
   "source": [
    "Spin up the SPU network:\n"
   ]
  },
  {
   "cell_type": "code",
   "execution_count": 6,
   "metadata": {},
   "outputs": [],
   "source": [
    "from secretnote.compat.spu import (\n",
    "    SPUClusterDef,\n",
    "    SPUConfig,\n",
    "    SPURuntimeConfig,\n",
    "    SPUProtocolKind,\n",
    "    SPUFieldType,\n",
    "    SPUNode,\n",
    ")\n",
    "\n",
    "mpc_config = SPUConfig(\n",
    "    cluster_def=SPUClusterDef(\n",
    "        nodes=[\n",
    "            SPUNode(\n",
    "                party=\"alice\",\n",
    "                listen_addr=alice_bind_to,\n",
    "                address=connect_to_alice_via,\n",
    "            ),\n",
    "            SPUNode(\n",
    "                party=\"bob\",\n",
    "                listen_addr=bob_bind_to,\n",
    "                address=connect_to_bob_via,\n",
    "            ),\n",
    "        ],\n",
    "        runtime_config=SPURuntimeConfig(\n",
    "            protocol=SPUProtocolKind.SEMI2K,\n",
    "            field=SPUFieldType.FM128,\n",
    "        ),\n",
    "    ),\n",
    ")\n",
    "\n",
    "mpc = secretflow.SPU(**mpc_config.dict())\n",
    "mpc.init()"
   ]
  },
  {
   "cell_type": "markdown",
   "metadata": {},
   "source": [
    "Run an example JAX program on the SPU network:\n"
   ]
  },
  {
   "cell_type": "code",
   "execution_count": 7,
   "metadata": {},
   "outputs": [],
   "source": [
    "import jax.numpy as jnp"
   ]
  },
  {
   "cell_type": "code",
   "execution_count": 8,
   "metadata": {},
   "outputs": [],
   "source": [
    "def dot(x, y):\n",
    "    return jnp.dot(x, y)"
   ]
  },
  {
   "cell_type": "code",
   "execution_count": 9,
   "metadata": {},
   "outputs": [
    {
     "name": "stderr",
     "output_type": "stream",
     "text": [
      "INFO:jax._src.xla_bridge:Unable to initialize backend 'cuda': module 'jaxlib.xla_extension' has no attribute 'GpuAllocatorConfig'\n",
      "INFO:jax._src.xla_bridge:Unable to initialize backend 'rocm': module 'jaxlib.xla_extension' has no attribute 'GpuAllocatorConfig'\n",
      "INFO:jax._src.xla_bridge:Unable to initialize backend 'tpu': module 'jaxlib.xla_extension' has no attribute 'get_tpu_client'\n",
      "INFO:jax._src.xla_bridge:Unable to initialize backend 'plugin': xla_extension has no attributes named get_plugin_device_client. Compile TensorFlow with //tensorflow/compiler/xla/python:enable_plugin_device set to true (defaults to false) to enable this.\n",
      "\u001b[2m\u001b[36m(_run pid=15138)\u001b[0m INFO:jax._src.xla_bridge:Unable to initialize backend 'cuda': module 'jaxlib.xla_extension' has no attribute 'GpuAllocatorConfig'\n",
      "\u001b[2m\u001b[36m(_run pid=15138)\u001b[0m INFO:jax._src.xla_bridge:Unable to initialize backend 'rocm': module 'jaxlib.xla_extension' has no attribute 'GpuAllocatorConfig'\n",
      "\u001b[2m\u001b[36m(_run pid=15138)\u001b[0m INFO:jax._src.xla_bridge:Unable to initialize backend 'tpu': module 'jaxlib.xla_extension' has no attribute 'get_tpu_client'\n",
      "\u001b[2m\u001b[36m(_run pid=15138)\u001b[0m INFO:jax._src.xla_bridge:Unable to initialize backend 'plugin': xla_extension has no attributes named get_plugin_device_client. Compile TensorFlow with //tensorflow/compiler/xla/python:enable_plugin_device set to true (defaults to false) to enable this.\n"
     ]
    },
    {
     "name": "stdout",
     "output_type": "stream",
     "text": [
      "\u001b[2m\u001b[36m(SPURuntime pid=15173)\u001b[0m 2023-09-18 07:46:16.382 [info] [default_brpc_retry_policy.cc:DoRetry:52] socket error, sleep=1000000us and retry\n"
     ]
    },
    {
     "name": "stderr",
     "output_type": "stream",
     "text": [
      "\u001b[2m\u001b[36m(_run pid=15169)\u001b[0m INFO:jax._src.xla_bridge:Unable to initialize backend 'cuda': module 'jaxlib.xla_extension' has no attribute 'GpuAllocatorConfig'\n",
      "\u001b[2m\u001b[36m(_run pid=15169)\u001b[0m INFO:jax._src.xla_bridge:Unable to initialize backend 'rocm': module 'jaxlib.xla_extension' has no attribute 'GpuAllocatorConfig'\n",
      "\u001b[2m\u001b[36m(_run pid=15169)\u001b[0m INFO:jax._src.xla_bridge:Unable to initialize backend 'tpu': module 'jaxlib.xla_extension' has no attribute 'get_tpu_client'\n",
      "\u001b[2m\u001b[36m(_run pid=15169)\u001b[0m INFO:jax._src.xla_bridge:Unable to initialize backend 'plugin': xla_extension has no attributes named get_plugin_device_client. Compile TensorFlow with //tensorflow/compiler/xla/python:enable_plugin_device set to true (defaults to false) to enable this.\n"
     ]
    },
    {
     "name": "stdout",
     "output_type": "stream",
     "text": [
      "\u001b[2m\u001b[36m(SPURuntime pid=15173)\u001b[0m 2023-09-18 07:46:17.382 [info] [default_brpc_retry_policy.cc:LogHttpDetail:33] cntl ErrorCode '64', http status code '200', response header '', error msg '[E61]Fail to connect Socket{id=0 addr=30.231.120.44:54238} (0x0x1380f8000): Connection refused [R1][E64]Not connected to 30.231.120.44:54238 yet, server_id=0'\n",
      "\u001b[2m\u001b[36m(SPURuntime pid=15173)\u001b[0m 2023-09-18 07:46:17.383 [info] [default_brpc_retry_policy.cc:DoRetry:75] aggressive retry, sleep=1000000us and retry\n",
      "\u001b[2m\u001b[36m(SPURuntime pid=15173)\u001b[0m 2023-09-18 07:46:18.383 [info] [default_brpc_retry_policy.cc:LogHttpDetail:33] cntl ErrorCode '64', http status code '200', response header '', error msg '[E61]Fail to connect Socket{id=0 addr=30.231.120.44:54238} (0x0x1380f8000): Connection refused [R1][E64]Not connected to 30.231.120.44:54238 yet, server_id=0 [R2][E64]Not connected to 30.231.120.44:54238 yet, server_id=0'\n",
      "\u001b[2m\u001b[36m(SPURuntime pid=15173)\u001b[0m 2023-09-18 07:46:18.383 [info] [default_brpc_retry_policy.cc:DoRetry:75] aggressive retry, sleep=1000000us and retry\n",
      "\u001b[2m\u001b[36m(SPURuntime pid=15171)\u001b[0m 2023-09-18 07:46:18.419 [info] [default_brpc_retry_policy.cc:DoRetry:71] not retry for reached rcp timeout, ErrorCode '1008', error msg '[E1008]Reached timeout=2000ms @30.231.120.44:54239'\n"
     ]
    },
    {
     "data": {
      "text/plain": [
       "array(735, dtype=int32)"
      ]
     },
     "execution_count": 9,
     "metadata": {},
     "output_type": "execute_result"
    }
   ],
   "source": [
    "product = mpc(dot)(\n",
    "    secretflow.to(alice, jnp.arange(10)).to(mpc),\n",
    "    secretflow.to(bob, jnp.arange(10, 20)).to(mpc),\n",
    ")\n",
    "secretflow.reveal(product)"
   ]
  },
  {
   "cell_type": "markdown",
   "metadata": {},
   "source": [
    "Stop everything:\n"
   ]
  },
  {
   "cell_type": "code",
   "execution_count": 10,
   "metadata": {},
   "outputs": [],
   "source": [
    "mpc.shutdown()\n",
    "secretflow.shutdown()"
   ]
  }
 ],
 "metadata": {
  "kernelspec": {
   "display_name": ".venv",
   "language": "python",
   "name": "python3"
  },
  "language_info": {
   "codemirror_mode": {
    "name": "ipython",
    "version": 3
   },
   "file_extension": ".py",
   "mimetype": "text/x-python",
   "name": "python",
   "nbconvert_exporter": "python",
   "pygments_lexer": "ipython3",
   "version": "3.8.17"
  },
  "orig_nbformat": 4
 },
 "nbformat": 4,
 "nbformat_minor": 2
}
